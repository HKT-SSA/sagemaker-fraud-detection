{
 "cells": [
  {
   "cell_type": "code",
   "execution_count": 24,
   "metadata": {},
   "outputs": [],
   "source": [
    "import sagemaker as sm\n",
    "import json\n",
    "import pandas as pd\n",
    "import numpy as np"
   ]
  },
  {
   "cell_type": "code",
   "execution_count": 18,
   "metadata": {},
   "outputs": [],
   "source": [
    "endpoint_name = 'Neural-Net-Fraud-Detection-2020-03-23-09-37-43-152'"
   ]
  },
  {
   "cell_type": "code",
   "execution_count": 19,
   "metadata": {},
   "outputs": [],
   "source": [
    "my_predictor = sm.RealTimePredictor(endpoint_name)"
   ]
  },
  {
   "cell_type": "code",
   "execution_count": 20,
   "metadata": {},
   "outputs": [],
   "source": [
    "from sagemaker.predictor import csv_serializer \n",
    "\n",
    "my_predictor.content_type = 'text/csv'\n",
    "my_predictor.serializer = csv_serializer\n",
    "my_predictor.deserializer = None"
   ]
  },
  {
   "cell_type": "code",
   "execution_count": 16,
   "metadata": {},
   "outputs": [],
   "source": [
    "test_data = pd.read_csv('test.csv', header=None)\n",
    "test_data.shape"
   ]
  },
  {
   "cell_type": "code",
   "execution_count": 17,
   "metadata": {},
   "outputs": [
    {
     "data": {
      "text/html": [
       "<div>\n",
       "<style scoped>\n",
       "    .dataframe tbody tr th:only-of-type {\n",
       "        vertical-align: middle;\n",
       "    }\n",
       "\n",
       "    .dataframe tbody tr th {\n",
       "        vertical-align: top;\n",
       "    }\n",
       "\n",
       "    .dataframe thead th {\n",
       "        text-align: right;\n",
       "    }\n",
       "</style>\n",
       "<table border=\"1\" class=\"dataframe\">\n",
       "  <thead>\n",
       "    <tr style=\"text-align: right;\">\n",
       "      <th></th>\n",
       "      <th>0</th>\n",
       "      <th>1</th>\n",
       "      <th>2</th>\n",
       "      <th>3</th>\n",
       "      <th>4</th>\n",
       "      <th>5</th>\n",
       "      <th>6</th>\n",
       "      <th>7</th>\n",
       "      <th>8</th>\n",
       "      <th>9</th>\n",
       "      <th>...</th>\n",
       "      <th>19</th>\n",
       "      <th>20</th>\n",
       "      <th>21</th>\n",
       "      <th>22</th>\n",
       "      <th>23</th>\n",
       "      <th>24</th>\n",
       "      <th>25</th>\n",
       "      <th>26</th>\n",
       "      <th>27</th>\n",
       "      <th>28</th>\n",
       "    </tr>\n",
       "  </thead>\n",
       "  <tbody>\n",
       "    <tr>\n",
       "      <th>0</th>\n",
       "      <td>-0.102015</td>\n",
       "      <td>1.269862</td>\n",
       "      <td>-3.765699</td>\n",
       "      <td>0.099356</td>\n",
       "      <td>1.468189</td>\n",
       "      <td>-1.010584</td>\n",
       "      <td>2.415928</td>\n",
       "      <td>-0.238841</td>\n",
       "      <td>-0.780201</td>\n",
       "      <td>-1.495847</td>\n",
       "      <td>...</td>\n",
       "      <td>0.542770</td>\n",
       "      <td>0.523161</td>\n",
       "      <td>1.435602</td>\n",
       "      <td>0.375815</td>\n",
       "      <td>-0.090128</td>\n",
       "      <td>-0.763226</td>\n",
       "      <td>-0.401326</td>\n",
       "      <td>0.426126</td>\n",
       "      <td>0.410950</td>\n",
       "      <td>0</td>\n",
       "    </tr>\n",
       "    <tr>\n",
       "      <th>1</th>\n",
       "      <td>-5.761488</td>\n",
       "      <td>3.986062</td>\n",
       "      <td>-3.230338</td>\n",
       "      <td>-3.023193</td>\n",
       "      <td>0.165141</td>\n",
       "      <td>2.710268</td>\n",
       "      <td>-1.597503</td>\n",
       "      <td>2.996411</td>\n",
       "      <td>2.050103</td>\n",
       "      <td>3.057230</td>\n",
       "      <td>...</td>\n",
       "      <td>1.493858</td>\n",
       "      <td>-0.476712</td>\n",
       "      <td>-0.861829</td>\n",
       "      <td>0.274514</td>\n",
       "      <td>0.979828</td>\n",
       "      <td>0.700718</td>\n",
       "      <td>0.782482</td>\n",
       "      <td>0.947033</td>\n",
       "      <td>0.817032</td>\n",
       "      <td>0</td>\n",
       "    </tr>\n",
       "    <tr>\n",
       "      <th>2</th>\n",
       "      <td>-1.775500</td>\n",
       "      <td>-0.532486</td>\n",
       "      <td>2.164405</td>\n",
       "      <td>0.344457</td>\n",
       "      <td>-2.185833</td>\n",
       "      <td>1.371165</td>\n",
       "      <td>0.905827</td>\n",
       "      <td>-0.869216</td>\n",
       "      <td>-1.390445</td>\n",
       "      <td>0.037197</td>\n",
       "      <td>...</td>\n",
       "      <td>-0.703832</td>\n",
       "      <td>0.240027</td>\n",
       "      <td>-1.351394</td>\n",
       "      <td>-1.523694</td>\n",
       "      <td>0.503419</td>\n",
       "      <td>-0.416059</td>\n",
       "      <td>0.693571</td>\n",
       "      <td>0.420152</td>\n",
       "      <td>-0.019999</td>\n",
       "      <td>0</td>\n",
       "    </tr>\n",
       "    <tr>\n",
       "      <th>3</th>\n",
       "      <td>2.067075</td>\n",
       "      <td>-0.419097</td>\n",
       "      <td>-1.615867</td>\n",
       "      <td>0.749085</td>\n",
       "      <td>-0.148326</td>\n",
       "      <td>-1.100220</td>\n",
       "      <td>0.244915</td>\n",
       "      <td>-0.415253</td>\n",
       "      <td>-0.776355</td>\n",
       "      <td>1.064816</td>\n",
       "      <td>...</td>\n",
       "      <td>-0.664855</td>\n",
       "      <td>-0.295437</td>\n",
       "      <td>-0.261864</td>\n",
       "      <td>0.053549</td>\n",
       "      <td>-0.063444</td>\n",
       "      <td>0.316313</td>\n",
       "      <td>-0.490065</td>\n",
       "      <td>0.000871</td>\n",
       "      <td>-0.051857</td>\n",
       "      <td>0</td>\n",
       "    </tr>\n",
       "    <tr>\n",
       "      <th>4</th>\n",
       "      <td>-0.335724</td>\n",
       "      <td>1.238587</td>\n",
       "      <td>-0.197225</td>\n",
       "      <td>-1.286162</td>\n",
       "      <td>2.179192</td>\n",
       "      <td>0.150390</td>\n",
       "      <td>2.049676</td>\n",
       "      <td>-1.255266</td>\n",
       "      <td>1.308630</td>\n",
       "      <td>1.918635</td>\n",
       "      <td>...</td>\n",
       "      <td>1.026223</td>\n",
       "      <td>-0.742006</td>\n",
       "      <td>-0.691393</td>\n",
       "      <td>-0.196129</td>\n",
       "      <td>-0.298838</td>\n",
       "      <td>-0.286490</td>\n",
       "      <td>-0.019444</td>\n",
       "      <td>-0.477739</td>\n",
       "      <td>-0.996504</td>\n",
       "      <td>0</td>\n",
       "    </tr>\n",
       "  </tbody>\n",
       "</table>\n",
       "<p>5 rows × 29 columns</p>\n",
       "</div>"
      ],
      "text/plain": [
       "         0         1         2         3         4         5         6   \\\n",
       "0 -0.102015  1.269862 -3.765699  0.099356  1.468189 -1.010584  2.415928   \n",
       "1 -5.761488  3.986062 -3.230338 -3.023193  0.165141  2.710268 -1.597503   \n",
       "2 -1.775500 -0.532486  2.164405  0.344457 -2.185833  1.371165  0.905827   \n",
       "3  2.067075 -0.419097 -1.615867  0.749085 -0.148326 -1.100220  0.244915   \n",
       "4 -0.335724  1.238587 -0.197225 -1.286162  2.179192  0.150390  2.049676   \n",
       "\n",
       "         7         8         9   ...        19        20        21        22  \\\n",
       "0 -0.238841 -0.780201 -1.495847  ...  0.542770  0.523161  1.435602  0.375815   \n",
       "1  2.996411  2.050103  3.057230  ...  1.493858 -0.476712 -0.861829  0.274514   \n",
       "2 -0.869216 -1.390445  0.037197  ... -0.703832  0.240027 -1.351394 -1.523694   \n",
       "3 -0.415253 -0.776355  1.064816  ... -0.664855 -0.295437 -0.261864  0.053549   \n",
       "4 -1.255266  1.308630  1.918635  ...  1.026223 -0.742006 -0.691393 -0.196129   \n",
       "\n",
       "         23        24        25        26        27  28  \n",
       "0 -0.090128 -0.763226 -0.401326  0.426126  0.410950   0  \n",
       "1  0.979828  0.700718  0.782482  0.947033  0.817032   0  \n",
       "2  0.503419 -0.416059  0.693571  0.420152 -0.019999   0  \n",
       "3 -0.063444  0.316313 -0.490065  0.000871 -0.051857   0  \n",
       "4 -0.298838 -0.286490 -0.019444 -0.477739 -0.996504   0  \n",
       "\n",
       "[5 rows x 29 columns]"
      ]
     },
     "execution_count": 17,
     "metadata": {},
     "output_type": "execute_result"
    }
   ],
   "source": [
    "test_data.head()"
   ]
  },
  {
   "cell_type": "code",
   "execution_count": 21,
   "metadata": {},
   "outputs": [],
   "source": [
    "y_true = test_data.iloc[:,28:29]"
   ]
  },
  {
   "cell_type": "code",
   "execution_count": 32,
   "metadata": {},
   "outputs": [
    {
     "data": {
      "text/html": [
       "<div>\n",
       "<style scoped>\n",
       "    .dataframe tbody tr th:only-of-type {\n",
       "        vertical-align: middle;\n",
       "    }\n",
       "\n",
       "    .dataframe tbody tr th {\n",
       "        vertical-align: top;\n",
       "    }\n",
       "\n",
       "    .dataframe thead th {\n",
       "        text-align: right;\n",
       "    }\n",
       "</style>\n",
       "<table border=\"1\" class=\"dataframe\">\n",
       "  <thead>\n",
       "    <tr style=\"text-align: right;\">\n",
       "      <th></th>\n",
       "      <th>28</th>\n",
       "    </tr>\n",
       "  </thead>\n",
       "  <tbody>\n",
       "    <tr>\n",
       "      <th>0</th>\n",
       "      <td>0</td>\n",
       "    </tr>\n",
       "    <tr>\n",
       "      <th>1</th>\n",
       "      <td>0</td>\n",
       "    </tr>\n",
       "    <tr>\n",
       "      <th>2</th>\n",
       "      <td>0</td>\n",
       "    </tr>\n",
       "    <tr>\n",
       "      <th>3</th>\n",
       "      <td>0</td>\n",
       "    </tr>\n",
       "    <tr>\n",
       "      <th>4</th>\n",
       "      <td>0</td>\n",
       "    </tr>\n",
       "  </tbody>\n",
       "</table>\n",
       "</div>"
      ],
      "text/plain": [
       "   28\n",
       "0   0\n",
       "1   0\n",
       "2   0\n",
       "3   0\n",
       "4   0"
      ]
     },
     "execution_count": 32,
     "metadata": {},
     "output_type": "execute_result"
    }
   ],
   "source": [
    "y_true.head()"
   ]
  },
  {
   "cell_type": "code",
   "execution_count": 25,
   "metadata": {},
   "outputs": [],
   "source": [
    "def predict(data, rows=500):\n",
    "    split_array = np.array_split(data, int(data.shape[0] / float(rows) + 1))\n",
    "    predictions = []\n",
    "    for array in split_array:\n",
    "        x = my_predictor.predict(array).decode('utf-8')\n",
    "        x = json.loads(x)\n",
    "        x = np.array(x[\"predictions\"])\n",
    "        y = len(x)\n",
    "        predictions = np.append(predictions,x)\n",
    "    return predictions\n",
    "\n",
    "result_out = predict(test_data.values[:,0:28])"
   ]
  },
  {
   "cell_type": "code",
   "execution_count": 41,
   "metadata": {},
   "outputs": [],
   "source": [
    "y_pred = (result_out>0.12)"
   ]
  },
  {
   "cell_type": "code",
   "execution_count": 42,
   "metadata": {},
   "outputs": [],
   "source": [
    "from sklearn.metrics import confusion_matrix, precision_recall_curve\n",
    "import seaborn as sns\n",
    "import matplotlib.pyplot as plt"
   ]
  },
  {
   "cell_type": "code",
   "execution_count": 43,
   "metadata": {},
   "outputs": [
    {
     "data": {
      "image/png": "[encoded data removed]",
      "text/plain": [
       "<Figure size 864x864 with 2 Axes>"
      ]
     },
     "metadata": {
      "needs_background": "light"
     },
     "output_type": "display_data"
    }
   ],
   "source": [
    "LABELS = [\"Normal\",\"Fraud\"]\n",
    "conf_matrix = confusion_matrix(y_true=y_true, y_pred=y_pred)\n",
    "tn, fp, fn, tp = conf_matrix.ravel() \n",
    "plt.figure(figsize=(12, 12))\n",
    "sns.heatmap(conf_matrix, xticklabels=LABELS, yticklabels=LABELS, annot=True, fmt=\"d\");\n",
    "plt.title(\"Confusion matrix\")\n",
    "plt.ylabel('True class')\n",
    "plt.xlabel('Predicted class')\n",
    "plt.show()"
   ]
  },
  {
   "cell_type": "code",
   "execution_count": 44,
   "metadata": {},
   "outputs": [
    {
     "name": "stdout",
     "output_type": "stream",
     "text": [
      "              precision    recall  f1-score   support\n",
      "\n",
      "           0       1.00      1.00      1.00     28435\n",
      "           1       0.55      0.80      0.65        46\n",
      "\n",
      "    accuracy                           1.00     28481\n",
      "   macro avg       0.78      0.90      0.83     28481\n",
      "weighted avg       1.00      1.00      1.00     28481\n",
      "\n"
     ]
    }
   ],
   "source": [
    "from sklearn.metrics import classification_report\n",
    "print(classification_report(y_true, y_pred))"
   ]
  },
  {
   "cell_type": "code",
   "execution_count": null,
   "metadata": {},
   "outputs": [],
   "source": []
  }
 ],
 "metadata": {
  "kernelspec": {
   "display_name": "conda_python3",
   "language": "python",
   "name": "conda_python3"
  },
  "language_info": {
   "codemirror_mode": {
    "name": "ipython",
    "version": 3
   },
   "file_extension": ".py",
   "mimetype": "text/x-python",
   "name": "python",
   "nbconvert_exporter": "python",
   "pygments_lexer": "ipython3",
   "version": "3.7.6"
  }
 },
 "nbformat": 4,
 "nbformat_minor": 4
}
