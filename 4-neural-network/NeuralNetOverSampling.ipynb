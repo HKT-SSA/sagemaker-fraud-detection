{
 "cells": [
  {
   "cell_type": "markdown",
   "metadata": {},
   "source": [
    "# Fraud Detection Using Neural Network - A Supervised Deep Learning Method"
   ]
  },
  {
   "cell_type": "markdown",
   "metadata": {},
   "source": [
    "## Introduction\n",
    "In this lab, we are going to use the Neural Network to perform fraud detection. We are going to use the same dataset i.e. credit card data set. \n",
    "\n",
    "From previous labs we know that our dataset is highly imbalanced. The class column corresponds to whether or not a transaction is fradulent. We see that the majority of data is non-fraudulant with only $492$ ($.173\\%$) of the data corresponding to fraudulant examples.\n",
    "\n",
    "For unbalanced data sets like ours where the positive (fraudulent) examples occur much less frequently than the negative (legitimate) examples, we may try “over-sampling” the minority dataset by generating synthetic data (read about SMOTE in Data Mining for Imbalanced Datasets: An Overview (https://link.springer.com/chapter/10.1007%2F0-387-25465-X_40) or undersampling the majority class by using ensemble methods (see http://citeseerx.ist.psu.edu/viewdoc/download?doi=10.1.1.68.6858&rep=rep1&type=pdfor).\n",
    "\n",
    "Let's start by installing one of the liabraries for SMOTE technique."
   ]
  },
  {
   "cell_type": "code",
   "execution_count": 1,
   "metadata": {},
   "outputs": [
    {
     "name": "stdout",
     "output_type": "stream",
     "text": [
      "Collecting imbalanced-learn\n",
      "  Downloading imbalanced_learn-0.7.0-py3-none-any.whl (167 kB)\n",
      "\u001b[K     |████████████████████████████████| 167 kB 4.6 MB/s eta 0:00:01\n",
      "\u001b[?25hRequirement already satisfied, skipping upgrade: scipy>=0.19.1 in /home/ec2-user/anaconda3/envs/tensorflow_p36/lib/python3.6/site-packages (from imbalanced-learn) (1.4.1)\n",
      "Requirement already satisfied, skipping upgrade: numpy>=1.13.3 in /home/ec2-user/anaconda3/envs/tensorflow_p36/lib/python3.6/site-packages (from imbalanced-learn) (1.18.1)\n",
      "Collecting scikit-learn>=0.23\n",
      "  Downloading scikit_learn-0.23.1-cp36-cp36m-manylinux1_x86_64.whl (6.8 MB)\n",
      "\u001b[K     |████████████████████████████████| 6.8 MB 9.2 MB/s eta 0:00:01\n",
      "\u001b[?25hRequirement already satisfied, skipping upgrade: joblib>=0.11 in /home/ec2-user/anaconda3/envs/tensorflow_p36/lib/python3.6/site-packages (from imbalanced-learn) (0.14.1)\n",
      "Collecting threadpoolctl>=2.0.0\n",
      "  Downloading threadpoolctl-2.1.0-py3-none-any.whl (12 kB)\n",
      "Installing collected packages: threadpoolctl, scikit-learn, imbalanced-learn\n",
      "  Attempting uninstall: scikit-learn\n",
      "    Found existing installation: scikit-learn 0.22.1\n",
      "    Uninstalling scikit-learn-0.22.1:\n",
      "      Successfully uninstalled scikit-learn-0.22.1\n",
      "Successfully installed imbalanced-learn-0.7.0 scikit-learn-0.23.1 threadpoolctl-2.1.0\n",
      "\u001b[33mWARNING: You are using pip version 20.0.2; however, version 20.2 is available.\n",
      "You should consider upgrading via the '/home/ec2-user/anaconda3/envs/tensorflow_p36/bin/python -m pip install --upgrade pip' command.\u001b[0m\n"
     ]
    }
   ],
   "source": [
    "!pip install -U imbalanced-learn"
   ]
  },
  {
   "cell_type": "code",
   "execution_count": null,
   "metadata": {},
   "outputs": [],
   "source": [
    "# creating directory structure\n",
    "# !mkdir ../data\n",
    "# !mkdir ../model\n",
    "# !mkdir ../logs"
   ]
  },
  {
   "cell_type": "code",
   "execution_count": 2,
   "metadata": {},
   "outputs": [
    {
     "name": "stderr",
     "output_type": "stream",
     "text": [
      "Using TensorFlow backend.\n"
     ]
    },
    {
     "name": "stdout",
     "output_type": "stream",
     "text": [
      "WARNING:tensorflow:From /home/ec2-user/anaconda3/envs/tensorflow_p36/lib/python3.6/site-packages/tensorflow_core/__init__.py:1473: The name tf.estimator.inputs is deprecated. Please use tf.compat.v1.estimator.inputs instead.\n",
      "\n"
     ]
    }
   ],
   "source": [
    "# first neural network with keras tutorial\n",
    "from numpy import loadtxt\n",
    "from keras.models import Sequential\n",
    "from keras.layers import Dense\n",
    "import pandas as pd\n",
    "import numpy as np\n",
    "from imblearn.over_sampling import SMOTE, ADASYN\n",
    "from sagemaker.tensorflow import TensorFlow\n",
    "from collections import Counter\n",
    "import matplotlib.pyplot as plt\n",
    "import seaborn as sns"
   ]
  },
  {
   "cell_type": "markdown",
   "metadata": {},
   "source": [
    "## Downloading data"
   ]
  },
  {
   "cell_type": "code",
   "execution_count": null,
   "metadata": {},
   "outputs": [],
   "source": [
    "# !curl https://s3-us-west-2.amazonaws.com/sagemaker-e2e-solutions/fraud-detection/creditcardfraud.zip -o ../data/creditcardfraud.zip"
   ]
  },
  {
   "cell_type": "code",
   "execution_count": null,
   "metadata": {},
   "outputs": [],
   "source": [
    "# !unzip -o ../data/creditcardfraud.zip -d ../data/"
   ]
  },
  {
   "cell_type": "markdown",
   "metadata": {},
   "source": [
    "## Load and Visualize"
   ]
  },
  {
   "cell_type": "code",
   "execution_count": 3,
   "metadata": {},
   "outputs": [],
   "source": [
    "data = pd.read_csv('../data/creditcard.csv', delimiter=',')"
   ]
  },
  {
   "cell_type": "code",
   "execution_count": 4,
   "metadata": {},
   "outputs": [
    {
     "data": {
      "text/html": [
       "<div>\n",
       "<style scoped>\n",
       "    .dataframe tbody tr th:only-of-type {\n",
       "        vertical-align: middle;\n",
       "    }\n",
       "\n",
       "    .dataframe tbody tr th {\n",
       "        vertical-align: top;\n",
       "    }\n",
       "\n",
       "    .dataframe thead th {\n",
       "        text-align: right;\n",
       "    }\n",
       "</style>\n",
       "<table border=\"1\" class=\"dataframe\">\n",
       "  <thead>\n",
       "    <tr style=\"text-align: right;\">\n",
       "      <th></th>\n",
       "      <th>Time</th>\n",
       "      <th>V1</th>\n",
       "      <th>V2</th>\n",
       "      <th>V3</th>\n",
       "      <th>V4</th>\n",
       "      <th>V5</th>\n",
       "      <th>V6</th>\n",
       "      <th>V7</th>\n",
       "      <th>V8</th>\n",
       "      <th>V9</th>\n",
       "      <th>...</th>\n",
       "      <th>V21</th>\n",
       "      <th>V22</th>\n",
       "      <th>V23</th>\n",
       "      <th>V24</th>\n",
       "      <th>V25</th>\n",
       "      <th>V26</th>\n",
       "      <th>V27</th>\n",
       "      <th>V28</th>\n",
       "      <th>Amount</th>\n",
       "      <th>Class</th>\n",
       "    </tr>\n",
       "  </thead>\n",
       "  <tbody>\n",
       "    <tr>\n",
       "      <th>0</th>\n",
       "      <td>0.0</td>\n",
       "      <td>-1.359807</td>\n",
       "      <td>-0.072781</td>\n",
       "      <td>2.536347</td>\n",
       "      <td>1.378155</td>\n",
       "      <td>-0.338321</td>\n",
       "      <td>0.462388</td>\n",
       "      <td>0.239599</td>\n",
       "      <td>0.098698</td>\n",
       "      <td>0.363787</td>\n",
       "      <td>...</td>\n",
       "      <td>-0.018307</td>\n",
       "      <td>0.277838</td>\n",
       "      <td>-0.110474</td>\n",
       "      <td>0.066928</td>\n",
       "      <td>0.128539</td>\n",
       "      <td>-0.189115</td>\n",
       "      <td>0.133558</td>\n",
       "      <td>-0.021053</td>\n",
       "      <td>149.62</td>\n",
       "      <td>0</td>\n",
       "    </tr>\n",
       "    <tr>\n",
       "      <th>1</th>\n",
       "      <td>0.0</td>\n",
       "      <td>1.191857</td>\n",
       "      <td>0.266151</td>\n",
       "      <td>0.166480</td>\n",
       "      <td>0.448154</td>\n",
       "      <td>0.060018</td>\n",
       "      <td>-0.082361</td>\n",
       "      <td>-0.078803</td>\n",
       "      <td>0.085102</td>\n",
       "      <td>-0.255425</td>\n",
       "      <td>...</td>\n",
       "      <td>-0.225775</td>\n",
       "      <td>-0.638672</td>\n",
       "      <td>0.101288</td>\n",
       "      <td>-0.339846</td>\n",
       "      <td>0.167170</td>\n",
       "      <td>0.125895</td>\n",
       "      <td>-0.008983</td>\n",
       "      <td>0.014724</td>\n",
       "      <td>2.69</td>\n",
       "      <td>0</td>\n",
       "    </tr>\n",
       "    <tr>\n",
       "      <th>2</th>\n",
       "      <td>1.0</td>\n",
       "      <td>-1.358354</td>\n",
       "      <td>-1.340163</td>\n",
       "      <td>1.773209</td>\n",
       "      <td>0.379780</td>\n",
       "      <td>-0.503198</td>\n",
       "      <td>1.800499</td>\n",
       "      <td>0.791461</td>\n",
       "      <td>0.247676</td>\n",
       "      <td>-1.514654</td>\n",
       "      <td>...</td>\n",
       "      <td>0.247998</td>\n",
       "      <td>0.771679</td>\n",
       "      <td>0.909412</td>\n",
       "      <td>-0.689281</td>\n",
       "      <td>-0.327642</td>\n",
       "      <td>-0.139097</td>\n",
       "      <td>-0.055353</td>\n",
       "      <td>-0.059752</td>\n",
       "      <td>378.66</td>\n",
       "      <td>0</td>\n",
       "    </tr>\n",
       "    <tr>\n",
       "      <th>3</th>\n",
       "      <td>1.0</td>\n",
       "      <td>-0.966272</td>\n",
       "      <td>-0.185226</td>\n",
       "      <td>1.792993</td>\n",
       "      <td>-0.863291</td>\n",
       "      <td>-0.010309</td>\n",
       "      <td>1.247203</td>\n",
       "      <td>0.237609</td>\n",
       "      <td>0.377436</td>\n",
       "      <td>-1.387024</td>\n",
       "      <td>...</td>\n",
       "      <td>-0.108300</td>\n",
       "      <td>0.005274</td>\n",
       "      <td>-0.190321</td>\n",
       "      <td>-1.175575</td>\n",
       "      <td>0.647376</td>\n",
       "      <td>-0.221929</td>\n",
       "      <td>0.062723</td>\n",
       "      <td>0.061458</td>\n",
       "      <td>123.50</td>\n",
       "      <td>0</td>\n",
       "    </tr>\n",
       "    <tr>\n",
       "      <th>4</th>\n",
       "      <td>2.0</td>\n",
       "      <td>-1.158233</td>\n",
       "      <td>0.877737</td>\n",
       "      <td>1.548718</td>\n",
       "      <td>0.403034</td>\n",
       "      <td>-0.407193</td>\n",
       "      <td>0.095921</td>\n",
       "      <td>0.592941</td>\n",
       "      <td>-0.270533</td>\n",
       "      <td>0.817739</td>\n",
       "      <td>...</td>\n",
       "      <td>-0.009431</td>\n",
       "      <td>0.798278</td>\n",
       "      <td>-0.137458</td>\n",
       "      <td>0.141267</td>\n",
       "      <td>-0.206010</td>\n",
       "      <td>0.502292</td>\n",
       "      <td>0.219422</td>\n",
       "      <td>0.215153</td>\n",
       "      <td>69.99</td>\n",
       "      <td>0</td>\n",
       "    </tr>\n",
       "    <tr>\n",
       "      <th>5</th>\n",
       "      <td>2.0</td>\n",
       "      <td>-0.425966</td>\n",
       "      <td>0.960523</td>\n",
       "      <td>1.141109</td>\n",
       "      <td>-0.168252</td>\n",
       "      <td>0.420987</td>\n",
       "      <td>-0.029728</td>\n",
       "      <td>0.476201</td>\n",
       "      <td>0.260314</td>\n",
       "      <td>-0.568671</td>\n",
       "      <td>...</td>\n",
       "      <td>-0.208254</td>\n",
       "      <td>-0.559825</td>\n",
       "      <td>-0.026398</td>\n",
       "      <td>-0.371427</td>\n",
       "      <td>-0.232794</td>\n",
       "      <td>0.105915</td>\n",
       "      <td>0.253844</td>\n",
       "      <td>0.081080</td>\n",
       "      <td>3.67</td>\n",
       "      <td>0</td>\n",
       "    </tr>\n",
       "    <tr>\n",
       "      <th>6</th>\n",
       "      <td>4.0</td>\n",
       "      <td>1.229658</td>\n",
       "      <td>0.141004</td>\n",
       "      <td>0.045371</td>\n",
       "      <td>1.202613</td>\n",
       "      <td>0.191881</td>\n",
       "      <td>0.272708</td>\n",
       "      <td>-0.005159</td>\n",
       "      <td>0.081213</td>\n",
       "      <td>0.464960</td>\n",
       "      <td>...</td>\n",
       "      <td>-0.167716</td>\n",
       "      <td>-0.270710</td>\n",
       "      <td>-0.154104</td>\n",
       "      <td>-0.780055</td>\n",
       "      <td>0.750137</td>\n",
       "      <td>-0.257237</td>\n",
       "      <td>0.034507</td>\n",
       "      <td>0.005168</td>\n",
       "      <td>4.99</td>\n",
       "      <td>0</td>\n",
       "    </tr>\n",
       "    <tr>\n",
       "      <th>7</th>\n",
       "      <td>7.0</td>\n",
       "      <td>-0.644269</td>\n",
       "      <td>1.417964</td>\n",
       "      <td>1.074380</td>\n",
       "      <td>-0.492199</td>\n",
       "      <td>0.948934</td>\n",
       "      <td>0.428118</td>\n",
       "      <td>1.120631</td>\n",
       "      <td>-3.807864</td>\n",
       "      <td>0.615375</td>\n",
       "      <td>...</td>\n",
       "      <td>1.943465</td>\n",
       "      <td>-1.015455</td>\n",
       "      <td>0.057504</td>\n",
       "      <td>-0.649709</td>\n",
       "      <td>-0.415267</td>\n",
       "      <td>-0.051634</td>\n",
       "      <td>-1.206921</td>\n",
       "      <td>-1.085339</td>\n",
       "      <td>40.80</td>\n",
       "      <td>0</td>\n",
       "    </tr>\n",
       "    <tr>\n",
       "      <th>8</th>\n",
       "      <td>7.0</td>\n",
       "      <td>-0.894286</td>\n",
       "      <td>0.286157</td>\n",
       "      <td>-0.113192</td>\n",
       "      <td>-0.271526</td>\n",
       "      <td>2.669599</td>\n",
       "      <td>3.721818</td>\n",
       "      <td>0.370145</td>\n",
       "      <td>0.851084</td>\n",
       "      <td>-0.392048</td>\n",
       "      <td>...</td>\n",
       "      <td>-0.073425</td>\n",
       "      <td>-0.268092</td>\n",
       "      <td>-0.204233</td>\n",
       "      <td>1.011592</td>\n",
       "      <td>0.373205</td>\n",
       "      <td>-0.384157</td>\n",
       "      <td>0.011747</td>\n",
       "      <td>0.142404</td>\n",
       "      <td>93.20</td>\n",
       "      <td>0</td>\n",
       "    </tr>\n",
       "    <tr>\n",
       "      <th>9</th>\n",
       "      <td>9.0</td>\n",
       "      <td>-0.338262</td>\n",
       "      <td>1.119593</td>\n",
       "      <td>1.044367</td>\n",
       "      <td>-0.222187</td>\n",
       "      <td>0.499361</td>\n",
       "      <td>-0.246761</td>\n",
       "      <td>0.651583</td>\n",
       "      <td>0.069539</td>\n",
       "      <td>-0.736727</td>\n",
       "      <td>...</td>\n",
       "      <td>-0.246914</td>\n",
       "      <td>-0.633753</td>\n",
       "      <td>-0.120794</td>\n",
       "      <td>-0.385050</td>\n",
       "      <td>-0.069733</td>\n",
       "      <td>0.094199</td>\n",
       "      <td>0.246219</td>\n",
       "      <td>0.083076</td>\n",
       "      <td>3.68</td>\n",
       "      <td>0</td>\n",
       "    </tr>\n",
       "  </tbody>\n",
       "</table>\n",
       "<p>10 rows × 31 columns</p>\n",
       "</div>"
      ],
      "text/plain": [
       "   Time        V1        V2        V3        V4        V5        V6        V7  \\\n",
       "0   0.0 -1.359807 -0.072781  2.536347  1.378155 -0.338321  0.462388  0.239599   \n",
       "1   0.0  1.191857  0.266151  0.166480  0.448154  0.060018 -0.082361 -0.078803   \n",
       "2   1.0 -1.358354 -1.340163  1.773209  0.379780 -0.503198  1.800499  0.791461   \n",
       "3   1.0 -0.966272 -0.185226  1.792993 -0.863291 -0.010309  1.247203  0.237609   \n",
       "4   2.0 -1.158233  0.877737  1.548718  0.403034 -0.407193  0.095921  0.592941   \n",
       "5   2.0 -0.425966  0.960523  1.141109 -0.168252  0.420987 -0.029728  0.476201   \n",
       "6   4.0  1.229658  0.141004  0.045371  1.202613  0.191881  0.272708 -0.005159   \n",
       "7   7.0 -0.644269  1.417964  1.074380 -0.492199  0.948934  0.428118  1.120631   \n",
       "8   7.0 -0.894286  0.286157 -0.113192 -0.271526  2.669599  3.721818  0.370145   \n",
       "9   9.0 -0.338262  1.119593  1.044367 -0.222187  0.499361 -0.246761  0.651583   \n",
       "\n",
       "         V8        V9  ...       V21       V22       V23       V24       V25  \\\n",
       "0  0.098698  0.363787  ... -0.018307  0.277838 -0.110474  0.066928  0.128539   \n",
       "1  0.085102 -0.255425  ... -0.225775 -0.638672  0.101288 -0.339846  0.167170   \n",
       "2  0.247676 -1.514654  ...  0.247998  0.771679  0.909412 -0.689281 -0.327642   \n",
       "3  0.377436 -1.387024  ... -0.108300  0.005274 -0.190321 -1.175575  0.647376   \n",
       "4 -0.270533  0.817739  ... -0.009431  0.798278 -0.137458  0.141267 -0.206010   \n",
       "5  0.260314 -0.568671  ... -0.208254 -0.559825 -0.026398 -0.371427 -0.232794   \n",
       "6  0.081213  0.464960  ... -0.167716 -0.270710 -0.154104 -0.780055  0.750137   \n",
       "7 -3.807864  0.615375  ...  1.943465 -1.015455  0.057504 -0.649709 -0.415267   \n",
       "8  0.851084 -0.392048  ... -0.073425 -0.268092 -0.204233  1.011592  0.373205   \n",
       "9  0.069539 -0.736727  ... -0.246914 -0.633753 -0.120794 -0.385050 -0.069733   \n",
       "\n",
       "        V26       V27       V28  Amount  Class  \n",
       "0 -0.189115  0.133558 -0.021053  149.62      0  \n",
       "1  0.125895 -0.008983  0.014724    2.69      0  \n",
       "2 -0.139097 -0.055353 -0.059752  378.66      0  \n",
       "3 -0.221929  0.062723  0.061458  123.50      0  \n",
       "4  0.502292  0.219422  0.215153   69.99      0  \n",
       "5  0.105915  0.253844  0.081080    3.67      0  \n",
       "6 -0.257237  0.034507  0.005168    4.99      0  \n",
       "7 -0.051634 -1.206921 -1.085339   40.80      0  \n",
       "8 -0.384157  0.011747  0.142404   93.20      0  \n",
       "9  0.094199  0.246219  0.083076    3.68      0  \n",
       "\n",
       "[10 rows x 31 columns]"
      ]
     },
     "execution_count": 4,
     "metadata": {},
     "output_type": "execute_result"
    }
   ],
   "source": [
    "data.head(10)"
   ]
  },
  {
   "cell_type": "code",
   "execution_count": 5,
   "metadata": {},
   "outputs": [
    {
     "data": {
      "text/plain": [
       "Text(0, 0.5, 'Frequency')"
      ]
     },
     "execution_count": 5,
     "metadata": {},
     "output_type": "execute_result"
    },
    {
     "data": {
      "image/png": "[encoded data removed]",
      "text/plain": [
       "<Figure size 432x288 with 1 Axes>"
      ]
     },
     "metadata": {
      "needs_background": "light"
     },
     "output_type": "display_data"
    }
   ],
   "source": [
    "labels = ['normal','fraud']\n",
    "classes = pd.value_counts(data['Class'], sort = True)\n",
    "classes.plot(kind = 'bar', rot=0)\n",
    "plt.title(\"Transaction class distribution\")\n",
    "plt.xticks(range(2), labels)\n",
    "plt.xlabel(\"Class\")\n",
    "plt.ylabel(\"Frequency\")"
   ]
  },
  {
   "cell_type": "markdown",
   "metadata": {},
   "source": [
    "As we learned in previous labs, that features like 'Time', and 'Amount' are not that relevant. So let's drop these fields."
   ]
  },
  {
   "cell_type": "code",
   "execution_count": 6,
   "metadata": {},
   "outputs": [],
   "source": [
    "data = data.drop(['Time','Amount'],axis=1)"
   ]
  },
  {
   "cell_type": "markdown",
   "metadata": {},
   "source": [
    "## Split dateset into Train, Validation, and Test"
   ]
  },
  {
   "cell_type": "code",
   "execution_count": 8,
   "metadata": {},
   "outputs": [],
   "source": [
    "import boto3\n",
    "import os\n",
    "import sagemaker\n",
    "from sklearn.model_selection import train_test_split\n",
    "\n",
    "session = sagemaker.Session()\n",
    "\n",
    "# bucket = session.default_bucket()\n",
    "bucket = 'beyoung-fraud-detection-20200803'\n",
    "sagemaker_iam_role = sagemaker.get_execution_role()\n",
    "\n",
    "prefix = 'sagemaker/NeuralNetwork-fraud'\n",
    "\n",
    "RANDOM_SEED = 314 #used to help randomly select the data points\n",
    "TEST_PCT = 0.2 # 20% of the data\n",
    "\n",
    "train_data, test_data = train_test_split(data, test_size=TEST_PCT,random_state=RANDOM_SEED)\n",
    "validation_data, test_data = train_test_split(test_data, test_size=0.5,random_state=RANDOM_SEED)"
   ]
  },
  {
   "cell_type": "markdown",
   "metadata": {},
   "source": [
    "## Balacing our Training dataset"
   ]
  },
  {
   "cell_type": "code",
   "execution_count": 9,
   "metadata": {},
   "outputs": [
    {
     "name": "stdout",
     "output_type": "stream",
     "text": [
      "(227845, 28)\n",
      "(227845, 1)\n",
      "(454936, 28)\n",
      "(454936, 1)\n"
     ]
    },
    {
     "data": {
      "text/plain": [
       "(454936, 29)"
      ]
     },
     "execution_count": 9,
     "metadata": {},
     "output_type": "execute_result"
    }
   ],
   "source": [
    "X = train_data.iloc[:, 0:28]\n",
    "y = train_data.iloc[:,28:29]\n",
    "print(X.shape)\n",
    "print(y.shape)\n",
    "\n",
    "X_resampled, y_resampled = SMOTE().fit_resample(X, y)\n",
    "\n",
    "X = X_resampled\n",
    "y = y_resampled\n",
    "\n",
    "print(X.shape)\n",
    "print(y.shape)\n",
    "train_data = np.concatenate((X, y),axis=1)\n",
    "train_data = pd.DataFrame(train_data)\n",
    "train_data.shape"
   ]
  },
  {
   "cell_type": "code",
   "execution_count": 10,
   "metadata": {},
   "outputs": [
    {
     "data": {
      "text/html": [
       "<div>\n",
       "<style scoped>\n",
       "    .dataframe tbody tr th:only-of-type {\n",
       "        vertical-align: middle;\n",
       "    }\n",
       "\n",
       "    .dataframe tbody tr th {\n",
       "        vertical-align: top;\n",
       "    }\n",
       "\n",
       "    .dataframe thead th {\n",
       "        text-align: right;\n",
       "    }\n",
       "</style>\n",
       "<table border=\"1\" class=\"dataframe\">\n",
       "  <thead>\n",
       "    <tr style=\"text-align: right;\">\n",
       "      <th></th>\n",
       "      <th>V1</th>\n",
       "      <th>V2</th>\n",
       "      <th>V3</th>\n",
       "      <th>V4</th>\n",
       "      <th>V5</th>\n",
       "      <th>V6</th>\n",
       "      <th>V7</th>\n",
       "      <th>V8</th>\n",
       "      <th>V9</th>\n",
       "      <th>V10</th>\n",
       "      <th>...</th>\n",
       "      <th>V19</th>\n",
       "      <th>V20</th>\n",
       "      <th>V21</th>\n",
       "      <th>V22</th>\n",
       "      <th>V23</th>\n",
       "      <th>V24</th>\n",
       "      <th>V25</th>\n",
       "      <th>V26</th>\n",
       "      <th>V27</th>\n",
       "      <th>V28</th>\n",
       "    </tr>\n",
       "  </thead>\n",
       "  <tbody>\n",
       "    <tr>\n",
       "      <th>0</th>\n",
       "      <td>0.260538</td>\n",
       "      <td>0.644354</td>\n",
       "      <td>-0.649921</td>\n",
       "      <td>-0.053463</td>\n",
       "      <td>0.883230</td>\n",
       "      <td>-0.757973</td>\n",
       "      <td>0.787879</td>\n",
       "      <td>-0.142056</td>\n",
       "      <td>0.291431</td>\n",
       "      <td>-0.926765</td>\n",
       "      <td>...</td>\n",
       "      <td>0.479066</td>\n",
       "      <td>-0.126591</td>\n",
       "      <td>0.124600</td>\n",
       "      <td>0.572313</td>\n",
       "      <td>-0.245022</td>\n",
       "      <td>-0.698144</td>\n",
       "      <td>-0.375306</td>\n",
       "      <td>0.715218</td>\n",
       "      <td>0.081376</td>\n",
       "      <td>0.108298</td>\n",
       "    </tr>\n",
       "    <tr>\n",
       "      <th>1</th>\n",
       "      <td>-1.382266</td>\n",
       "      <td>0.112162</td>\n",
       "      <td>0.541746</td>\n",
       "      <td>1.459137</td>\n",
       "      <td>-1.320120</td>\n",
       "      <td>0.881505</td>\n",
       "      <td>1.274878</td>\n",
       "      <td>0.692477</td>\n",
       "      <td>-0.523981</td>\n",
       "      <td>-0.419198</td>\n",
       "      <td>...</td>\n",
       "      <td>0.934510</td>\n",
       "      <td>0.683867</td>\n",
       "      <td>0.246174</td>\n",
       "      <td>0.160448</td>\n",
       "      <td>0.774357</td>\n",
       "      <td>-0.064849</td>\n",
       "      <td>-0.023380</td>\n",
       "      <td>-0.242420</td>\n",
       "      <td>0.158846</td>\n",
       "      <td>0.153550</td>\n",
       "    </tr>\n",
       "    <tr>\n",
       "      <th>2</th>\n",
       "      <td>1.998524</td>\n",
       "      <td>-0.228993</td>\n",
       "      <td>-0.276857</td>\n",
       "      <td>0.572004</td>\n",
       "      <td>-0.305767</td>\n",
       "      <td>0.025961</td>\n",
       "      <td>-0.706267</td>\n",
       "      <td>-0.068867</td>\n",
       "      <td>2.603357</td>\n",
       "      <td>-0.577862</td>\n",
       "      <td>...</td>\n",
       "      <td>-0.453597</td>\n",
       "      <td>-0.184725</td>\n",
       "      <td>0.043219</td>\n",
       "      <td>0.657304</td>\n",
       "      <td>0.150440</td>\n",
       "      <td>0.592132</td>\n",
       "      <td>-0.064754</td>\n",
       "      <td>-0.277614</td>\n",
       "      <td>0.020307</td>\n",
       "      <td>-0.036267</td>\n",
       "    </tr>\n",
       "    <tr>\n",
       "      <th>3</th>\n",
       "      <td>0.736055</td>\n",
       "      <td>-0.423105</td>\n",
       "      <td>0.280255</td>\n",
       "      <td>1.521043</td>\n",
       "      <td>-0.739431</td>\n",
       "      <td>-0.982784</td>\n",
       "      <td>0.463617</td>\n",
       "      <td>-0.284605</td>\n",
       "      <td>-0.061795</td>\n",
       "      <td>-0.048532</td>\n",
       "      <td>...</td>\n",
       "      <td>-0.676679</td>\n",
       "      <td>0.346534</td>\n",
       "      <td>0.240533</td>\n",
       "      <td>0.182956</td>\n",
       "      <td>-0.285509</td>\n",
       "      <td>0.727483</td>\n",
       "      <td>0.538996</td>\n",
       "      <td>-0.326837</td>\n",
       "      <td>-0.027806</td>\n",
       "      <td>0.068051</td>\n",
       "    </tr>\n",
       "    <tr>\n",
       "      <th>4</th>\n",
       "      <td>2.063104</td>\n",
       "      <td>-0.064287</td>\n",
       "      <td>-0.955170</td>\n",
       "      <td>0.639229</td>\n",
       "      <td>-0.229669</td>\n",
       "      <td>-1.213497</td>\n",
       "      <td>-0.025961</td>\n",
       "      <td>-0.317086</td>\n",
       "      <td>2.089984</td>\n",
       "      <td>-0.246140</td>\n",
       "      <td>...</td>\n",
       "      <td>-0.048739</td>\n",
       "      <td>-0.379353</td>\n",
       "      <td>-0.459128</td>\n",
       "      <td>-1.026646</td>\n",
       "      <td>0.373861</td>\n",
       "      <td>-0.062467</td>\n",
       "      <td>-0.381783</td>\n",
       "      <td>0.162610</td>\n",
       "      <td>-0.108893</td>\n",
       "      <td>-0.069974</td>\n",
       "    </tr>\n",
       "  </tbody>\n",
       "</table>\n",
       "<p>5 rows × 28 columns</p>\n",
       "</div>"
      ],
      "text/plain": [
       "         V1        V2        V3        V4        V5        V6        V7  \\\n",
       "0  0.260538  0.644354 -0.649921 -0.053463  0.883230 -0.757973  0.787879   \n",
       "1 -1.382266  0.112162  0.541746  1.459137 -1.320120  0.881505  1.274878   \n",
       "2  1.998524 -0.228993 -0.276857  0.572004 -0.305767  0.025961 -0.706267   \n",
       "3  0.736055 -0.423105  0.280255  1.521043 -0.739431 -0.982784  0.463617   \n",
       "4  2.063104 -0.064287 -0.955170  0.639229 -0.229669 -1.213497 -0.025961   \n",
       "\n",
       "         V8        V9       V10  ...       V19       V20       V21       V22  \\\n",
       "0 -0.142056  0.291431 -0.926765  ...  0.479066 -0.126591  0.124600  0.572313   \n",
       "1  0.692477 -0.523981 -0.419198  ...  0.934510  0.683867  0.246174  0.160448   \n",
       "2 -0.068867  2.603357 -0.577862  ... -0.453597 -0.184725  0.043219  0.657304   \n",
       "3 -0.284605 -0.061795 -0.048532  ... -0.676679  0.346534  0.240533  0.182956   \n",
       "4 -0.317086  2.089984 -0.246140  ... -0.048739 -0.379353 -0.459128 -1.026646   \n",
       "\n",
       "        V23       V24       V25       V26       V27       V28  \n",
       "0 -0.245022 -0.698144 -0.375306  0.715218  0.081376  0.108298  \n",
       "1  0.774357 -0.064849 -0.023380 -0.242420  0.158846  0.153550  \n",
       "2  0.150440  0.592132 -0.064754 -0.277614  0.020307 -0.036267  \n",
       "3 -0.285509  0.727483  0.538996 -0.326837 -0.027806  0.068051  \n",
       "4  0.373861 -0.062467 -0.381783  0.162610 -0.108893 -0.069974  \n",
       "\n",
       "[5 rows x 28 columns]"
      ]
     },
     "execution_count": 10,
     "metadata": {},
     "output_type": "execute_result"
    }
   ],
   "source": [
    "X_resampled.head()"
   ]
  },
  {
   "cell_type": "code",
   "execution_count": 11,
   "metadata": {},
   "outputs": [
    {
     "data": {
      "text/html": [
       "<div>\n",
       "<style scoped>\n",
       "    .dataframe tbody tr th:only-of-type {\n",
       "        vertical-align: middle;\n",
       "    }\n",
       "\n",
       "    .dataframe tbody tr th {\n",
       "        vertical-align: top;\n",
       "    }\n",
       "\n",
       "    .dataframe thead th {\n",
       "        text-align: right;\n",
       "    }\n",
       "</style>\n",
       "<table border=\"1\" class=\"dataframe\">\n",
       "  <thead>\n",
       "    <tr style=\"text-align: right;\">\n",
       "      <th></th>\n",
       "      <th>Class</th>\n",
       "    </tr>\n",
       "  </thead>\n",
       "  <tbody>\n",
       "    <tr>\n",
       "      <th>0</th>\n",
       "      <td>0</td>\n",
       "    </tr>\n",
       "    <tr>\n",
       "      <th>1</th>\n",
       "      <td>0</td>\n",
       "    </tr>\n",
       "    <tr>\n",
       "      <th>2</th>\n",
       "      <td>0</td>\n",
       "    </tr>\n",
       "    <tr>\n",
       "      <th>3</th>\n",
       "      <td>0</td>\n",
       "    </tr>\n",
       "    <tr>\n",
       "      <th>4</th>\n",
       "      <td>0</td>\n",
       "    </tr>\n",
       "  </tbody>\n",
       "</table>\n",
       "</div>"
      ],
      "text/plain": [
       "   Class\n",
       "0      0\n",
       "1      0\n",
       "2      0\n",
       "3      0\n",
       "4      0"
      ]
     },
     "execution_count": 11,
     "metadata": {},
     "output_type": "execute_result"
    }
   ],
   "source": [
    "y_resampled.head()"
   ]
  },
  {
   "cell_type": "code",
   "execution_count": 12,
   "metadata": {},
   "outputs": [
    {
     "data": {
      "text/html": [
       "<div>\n",
       "<style scoped>\n",
       "    .dataframe tbody tr th:only-of-type {\n",
       "        vertical-align: middle;\n",
       "    }\n",
       "\n",
       "    .dataframe tbody tr th {\n",
       "        vertical-align: top;\n",
       "    }\n",
       "\n",
       "    .dataframe thead th {\n",
       "        text-align: right;\n",
       "    }\n",
       "</style>\n",
       "<table border=\"1\" class=\"dataframe\">\n",
       "  <thead>\n",
       "    <tr style=\"text-align: right;\">\n",
       "      <th></th>\n",
       "      <th>0</th>\n",
       "      <th>1</th>\n",
       "      <th>2</th>\n",
       "      <th>3</th>\n",
       "      <th>4</th>\n",
       "      <th>5</th>\n",
       "      <th>6</th>\n",
       "      <th>7</th>\n",
       "      <th>8</th>\n",
       "      <th>9</th>\n",
       "      <th>...</th>\n",
       "      <th>19</th>\n",
       "      <th>20</th>\n",
       "      <th>21</th>\n",
       "      <th>22</th>\n",
       "      <th>23</th>\n",
       "      <th>24</th>\n",
       "      <th>25</th>\n",
       "      <th>26</th>\n",
       "      <th>27</th>\n",
       "      <th>28</th>\n",
       "    </tr>\n",
       "  </thead>\n",
       "  <tbody>\n",
       "    <tr>\n",
       "      <th>0</th>\n",
       "      <td>0.260538</td>\n",
       "      <td>0.644354</td>\n",
       "      <td>-0.649921</td>\n",
       "      <td>-0.053463</td>\n",
       "      <td>0.883230</td>\n",
       "      <td>-0.757973</td>\n",
       "      <td>0.787879</td>\n",
       "      <td>-0.142056</td>\n",
       "      <td>0.291431</td>\n",
       "      <td>-0.926765</td>\n",
       "      <td>...</td>\n",
       "      <td>-0.126591</td>\n",
       "      <td>0.124600</td>\n",
       "      <td>0.572313</td>\n",
       "      <td>-0.245022</td>\n",
       "      <td>-0.698144</td>\n",
       "      <td>-0.375306</td>\n",
       "      <td>0.715218</td>\n",
       "      <td>0.081376</td>\n",
       "      <td>0.108298</td>\n",
       "      <td>0.0</td>\n",
       "    </tr>\n",
       "    <tr>\n",
       "      <th>1</th>\n",
       "      <td>-1.382266</td>\n",
       "      <td>0.112162</td>\n",
       "      <td>0.541746</td>\n",
       "      <td>1.459137</td>\n",
       "      <td>-1.320120</td>\n",
       "      <td>0.881505</td>\n",
       "      <td>1.274878</td>\n",
       "      <td>0.692477</td>\n",
       "      <td>-0.523981</td>\n",
       "      <td>-0.419198</td>\n",
       "      <td>...</td>\n",
       "      <td>0.683867</td>\n",
       "      <td>0.246174</td>\n",
       "      <td>0.160448</td>\n",
       "      <td>0.774357</td>\n",
       "      <td>-0.064849</td>\n",
       "      <td>-0.023380</td>\n",
       "      <td>-0.242420</td>\n",
       "      <td>0.158846</td>\n",
       "      <td>0.153550</td>\n",
       "      <td>0.0</td>\n",
       "    </tr>\n",
       "    <tr>\n",
       "      <th>2</th>\n",
       "      <td>1.998524</td>\n",
       "      <td>-0.228993</td>\n",
       "      <td>-0.276857</td>\n",
       "      <td>0.572004</td>\n",
       "      <td>-0.305767</td>\n",
       "      <td>0.025961</td>\n",
       "      <td>-0.706267</td>\n",
       "      <td>-0.068867</td>\n",
       "      <td>2.603357</td>\n",
       "      <td>-0.577862</td>\n",
       "      <td>...</td>\n",
       "      <td>-0.184725</td>\n",
       "      <td>0.043219</td>\n",
       "      <td>0.657304</td>\n",
       "      <td>0.150440</td>\n",
       "      <td>0.592132</td>\n",
       "      <td>-0.064754</td>\n",
       "      <td>-0.277614</td>\n",
       "      <td>0.020307</td>\n",
       "      <td>-0.036267</td>\n",
       "      <td>0.0</td>\n",
       "    </tr>\n",
       "    <tr>\n",
       "      <th>3</th>\n",
       "      <td>0.736055</td>\n",
       "      <td>-0.423105</td>\n",
       "      <td>0.280255</td>\n",
       "      <td>1.521043</td>\n",
       "      <td>-0.739431</td>\n",
       "      <td>-0.982784</td>\n",
       "      <td>0.463617</td>\n",
       "      <td>-0.284605</td>\n",
       "      <td>-0.061795</td>\n",
       "      <td>-0.048532</td>\n",
       "      <td>...</td>\n",
       "      <td>0.346534</td>\n",
       "      <td>0.240533</td>\n",
       "      <td>0.182956</td>\n",
       "      <td>-0.285509</td>\n",
       "      <td>0.727483</td>\n",
       "      <td>0.538996</td>\n",
       "      <td>-0.326837</td>\n",
       "      <td>-0.027806</td>\n",
       "      <td>0.068051</td>\n",
       "      <td>0.0</td>\n",
       "    </tr>\n",
       "    <tr>\n",
       "      <th>4</th>\n",
       "      <td>2.063104</td>\n",
       "      <td>-0.064287</td>\n",
       "      <td>-0.955170</td>\n",
       "      <td>0.639229</td>\n",
       "      <td>-0.229669</td>\n",
       "      <td>-1.213497</td>\n",
       "      <td>-0.025961</td>\n",
       "      <td>-0.317086</td>\n",
       "      <td>2.089984</td>\n",
       "      <td>-0.246140</td>\n",
       "      <td>...</td>\n",
       "      <td>-0.379353</td>\n",
       "      <td>-0.459128</td>\n",
       "      <td>-1.026646</td>\n",
       "      <td>0.373861</td>\n",
       "      <td>-0.062467</td>\n",
       "      <td>-0.381783</td>\n",
       "      <td>0.162610</td>\n",
       "      <td>-0.108893</td>\n",
       "      <td>-0.069974</td>\n",
       "      <td>0.0</td>\n",
       "    </tr>\n",
       "    <tr>\n",
       "      <th>5</th>\n",
       "      <td>1.938746</td>\n",
       "      <td>-1.348070</td>\n",
       "      <td>-0.571826</td>\n",
       "      <td>-0.898448</td>\n",
       "      <td>-1.164698</td>\n",
       "      <td>-0.275187</td>\n",
       "      <td>-0.997756</td>\n",
       "      <td>0.074171</td>\n",
       "      <td>-0.038386</td>\n",
       "      <td>0.851980</td>\n",
       "      <td>...</td>\n",
       "      <td>0.126071</td>\n",
       "      <td>0.041904</td>\n",
       "      <td>-0.151810</td>\n",
       "      <td>0.264565</td>\n",
       "      <td>-0.440844</td>\n",
       "      <td>-0.564571</td>\n",
       "      <td>-0.486713</td>\n",
       "      <td>-0.012370</td>\n",
       "      <td>-0.038735</td>\n",
       "      <td>0.0</td>\n",
       "    </tr>\n",
       "    <tr>\n",
       "      <th>6</th>\n",
       "      <td>-0.766821</td>\n",
       "      <td>1.168886</td>\n",
       "      <td>0.951680</td>\n",
       "      <td>0.717384</td>\n",
       "      <td>1.039082</td>\n",
       "      <td>-0.346663</td>\n",
       "      <td>1.765473</td>\n",
       "      <td>-0.569001</td>\n",
       "      <td>-0.578734</td>\n",
       "      <td>0.621377</td>\n",
       "      <td>...</td>\n",
       "      <td>0.109518</td>\n",
       "      <td>-0.040673</td>\n",
       "      <td>0.372062</td>\n",
       "      <td>-0.705867</td>\n",
       "      <td>0.010709</td>\n",
       "      <td>1.003730</td>\n",
       "      <td>-0.266130</td>\n",
       "      <td>-0.277632</td>\n",
       "      <td>-0.368166</td>\n",
       "      <td>0.0</td>\n",
       "    </tr>\n",
       "    <tr>\n",
       "      <th>7</th>\n",
       "      <td>1.295694</td>\n",
       "      <td>0.400421</td>\n",
       "      <td>0.098359</td>\n",
       "      <td>0.558956</td>\n",
       "      <td>-0.036970</td>\n",
       "      <td>-0.746547</td>\n",
       "      <td>0.129645</td>\n",
       "      <td>-0.215352</td>\n",
       "      <td>-0.053382</td>\n",
       "      <td>-0.305466</td>\n",
       "      <td>...</td>\n",
       "      <td>-0.012401</td>\n",
       "      <td>-0.313920</td>\n",
       "      <td>-0.862230</td>\n",
       "      <td>0.053621</td>\n",
       "      <td>-0.170914</td>\n",
       "      <td>0.315438</td>\n",
       "      <td>0.125078</td>\n",
       "      <td>-0.018383</td>\n",
       "      <td>0.027028</td>\n",
       "      <td>0.0</td>\n",
       "    </tr>\n",
       "    <tr>\n",
       "      <th>8</th>\n",
       "      <td>1.246454</td>\n",
       "      <td>0.038172</td>\n",
       "      <td>-0.059950</td>\n",
       "      <td>-0.096151</td>\n",
       "      <td>-0.195872</td>\n",
       "      <td>-0.812450</td>\n",
       "      <td>0.183660</td>\n",
       "      <td>-0.112738</td>\n",
       "      <td>-0.199824</td>\n",
       "      <td>0.046081</td>\n",
       "      <td>...</td>\n",
       "      <td>-0.061652</td>\n",
       "      <td>-0.411634</td>\n",
       "      <td>-1.348499</td>\n",
       "      <td>0.148395</td>\n",
       "      <td>-0.000230</td>\n",
       "      <td>0.084480</td>\n",
       "      <td>0.625746</td>\n",
       "      <td>-0.113259</td>\n",
       "      <td>-0.008212</td>\n",
       "      <td>0.0</td>\n",
       "    </tr>\n",
       "    <tr>\n",
       "      <th>9</th>\n",
       "      <td>2.016774</td>\n",
       "      <td>0.007711</td>\n",
       "      <td>-3.298051</td>\n",
       "      <td>0.125037</td>\n",
       "      <td>3.076508</td>\n",
       "      <td>3.037594</td>\n",
       "      <td>0.199125</td>\n",
       "      <td>0.576568</td>\n",
       "      <td>-0.306699</td>\n",
       "      <td>0.383016</td>\n",
       "      <td>...</td>\n",
       "      <td>-0.166750</td>\n",
       "      <td>0.131568</td>\n",
       "      <td>0.328318</td>\n",
       "      <td>0.007529</td>\n",
       "      <td>0.701816</td>\n",
       "      <td>0.502323</td>\n",
       "      <td>-0.465696</td>\n",
       "      <td>-0.016936</td>\n",
       "      <td>-0.066347</td>\n",
       "      <td>0.0</td>\n",
       "    </tr>\n",
       "  </tbody>\n",
       "</table>\n",
       "<p>10 rows × 29 columns</p>\n",
       "</div>"
      ],
      "text/plain": [
       "         0         1         2         3         4         5         6   \\\n",
       "0  0.260538  0.644354 -0.649921 -0.053463  0.883230 -0.757973  0.787879   \n",
       "1 -1.382266  0.112162  0.541746  1.459137 -1.320120  0.881505  1.274878   \n",
       "2  1.998524 -0.228993 -0.276857  0.572004 -0.305767  0.025961 -0.706267   \n",
       "3  0.736055 -0.423105  0.280255  1.521043 -0.739431 -0.982784  0.463617   \n",
       "4  2.063104 -0.064287 -0.955170  0.639229 -0.229669 -1.213497 -0.025961   \n",
       "5  1.938746 -1.348070 -0.571826 -0.898448 -1.164698 -0.275187 -0.997756   \n",
       "6 -0.766821  1.168886  0.951680  0.717384  1.039082 -0.346663  1.765473   \n",
       "7  1.295694  0.400421  0.098359  0.558956 -0.036970 -0.746547  0.129645   \n",
       "8  1.246454  0.038172 -0.059950 -0.096151 -0.195872 -0.812450  0.183660   \n",
       "9  2.016774  0.007711 -3.298051  0.125037  3.076508  3.037594  0.199125   \n",
       "\n",
       "         7         8         9   ...        19        20        21        22  \\\n",
       "0 -0.142056  0.291431 -0.926765  ... -0.126591  0.124600  0.572313 -0.245022   \n",
       "1  0.692477 -0.523981 -0.419198  ...  0.683867  0.246174  0.160448  0.774357   \n",
       "2 -0.068867  2.603357 -0.577862  ... -0.184725  0.043219  0.657304  0.150440   \n",
       "3 -0.284605 -0.061795 -0.048532  ...  0.346534  0.240533  0.182956 -0.285509   \n",
       "4 -0.317086  2.089984 -0.246140  ... -0.379353 -0.459128 -1.026646  0.373861   \n",
       "5  0.074171 -0.038386  0.851980  ...  0.126071  0.041904 -0.151810  0.264565   \n",
       "6 -0.569001 -0.578734  0.621377  ...  0.109518 -0.040673  0.372062 -0.705867   \n",
       "7 -0.215352 -0.053382 -0.305466  ... -0.012401 -0.313920 -0.862230  0.053621   \n",
       "8 -0.112738 -0.199824  0.046081  ... -0.061652 -0.411634 -1.348499  0.148395   \n",
       "9  0.576568 -0.306699  0.383016  ... -0.166750  0.131568  0.328318  0.007529   \n",
       "\n",
       "         23        24        25        26        27   28  \n",
       "0 -0.698144 -0.375306  0.715218  0.081376  0.108298  0.0  \n",
       "1 -0.064849 -0.023380 -0.242420  0.158846  0.153550  0.0  \n",
       "2  0.592132 -0.064754 -0.277614  0.020307 -0.036267  0.0  \n",
       "3  0.727483  0.538996 -0.326837 -0.027806  0.068051  0.0  \n",
       "4 -0.062467 -0.381783  0.162610 -0.108893 -0.069974  0.0  \n",
       "5 -0.440844 -0.564571 -0.486713 -0.012370 -0.038735  0.0  \n",
       "6  0.010709  1.003730 -0.266130 -0.277632 -0.368166  0.0  \n",
       "7 -0.170914  0.315438  0.125078 -0.018383  0.027028  0.0  \n",
       "8 -0.000230  0.084480  0.625746 -0.113259 -0.008212  0.0  \n",
       "9  0.701816  0.502323 -0.465696 -0.016936 -0.066347  0.0  \n",
       "\n",
       "[10 rows x 29 columns]"
      ]
     },
     "execution_count": 12,
     "metadata": {},
     "output_type": "execute_result"
    }
   ],
   "source": [
    "train_data.head(10)"
   ]
  },
  {
   "cell_type": "code",
   "execution_count": 13,
   "metadata": {},
   "outputs": [
    {
     "data": {
      "text/plain": [
       "Text(0, 0.5, 'Frequency')"
      ]
     },
     "execution_count": 13,
     "metadata": {},
     "output_type": "execute_result"
    },
    {
     "data": {
      "image/png": "[encoded data removed]",
      "text/plain": [
       "<Figure size 432x288 with 1 Axes>"
      ]
     },
     "metadata": {
      "needs_background": "light"
     },
     "output_type": "display_data"
    }
   ],
   "source": [
    "labels = ['normal','fraud']\n",
    "classes = pd.value_counts(train_data.iloc[:,28], sort = True)\n",
    "classes.plot(kind = 'bar', rot=0)\n",
    "plt.title(\"Transaction class distribution\")\n",
    "plt.xticks(range(2), labels)\n",
    "plt.xlabel(\"Class\")\n",
    "plt.ylabel(\"Frequency\")"
   ]
  },
  {
   "cell_type": "markdown",
   "metadata": {},
   "source": [
    "After balancing the dataset between fraud and non-fraud, we have equal number of records for both the categories in our training set."
   ]
  },
  {
   "cell_type": "markdown",
   "metadata": {},
   "source": [
    "## Uploading our dataset to S3"
   ]
  },
  {
   "cell_type": "code",
   "execution_count": 14,
   "metadata": {},
   "outputs": [],
   "source": [
    "train_data.to_csv('train.csv', header=False, index=False)\n",
    "validation_data.to_csv('validation.csv', header=False, index=False)\n",
    "test_data.to_csv('test.csv', header=False, index=False)"
   ]
  },
  {
   "cell_type": "code",
   "execution_count": 15,
   "metadata": {},
   "outputs": [
    {
     "name": "stdout",
     "output_type": "stream",
     "text": [
      "Training artifacts will be uploaded to: s3://beyoung-fraud-detection-20200803/sagemaker/NeuralNetwork-fraud/output\n"
     ]
    }
   ],
   "source": [
    "boto3.Session().resource('s3').Bucket(bucket).Object(os.path.join(prefix, 'train/train.csv')) \\\n",
    "                                .upload_file('train.csv')\n",
    "boto3.Session().resource('s3').Bucket(bucket).Object(os.path.join(prefix, 'validation/validation.csv')) \\\n",
    "                                .upload_file('validation.csv')\n",
    "boto3.Session().resource('s3').Bucket(bucket).Object(os.path.join(prefix, 'test/test.csv')) \\\n",
    "                                .upload_file('test.csv')\n",
    "\n",
    "s3_train_data = 's3://{}/{}/train/train.csv'.format(bucket, prefix)\n",
    "s3_validation_data = 's3://{}/{}/validation/validation.csv'.format(bucket, prefix)\n",
    "\n",
    "\n",
    "output_location = 's3://{}/{}/output'.format(bucket, prefix)\n",
    "\n",
    "print('Training artifacts will be uploaded to: {}'.format(output_location))"
   ]
  },
  {
   "cell_type": "markdown",
   "metadata": {},
   "source": [
    "## Set Up and Launch Training"
   ]
  },
  {
   "cell_type": "code",
   "execution_count": 16,
   "metadata": {},
   "outputs": [],
   "source": [
    "role = sagemaker.get_execution_role()"
   ]
  },
  {
   "cell_type": "code",
   "execution_count": 17,
   "metadata": {},
   "outputs": [],
   "source": [
    "epochs = 50\n",
    "batchsize = 1000\n",
    "key = \"data\"\n",
    "key_output = \"output\"                   # Path from the bucket's root to the dataset\n",
    "train_instance_type='ml.m5.xlarge'      # The type of EC2 instance which will be used for training\n",
    "deploy_instance_type='ml.m5.xlarge'     # The type of EC2 instance which will be used for deployment\n",
    "hyperparameters={\n",
    "    \"learning_rate\": 1e-4,\n",
    "    \"decay\": 1e-6,\n",
    "    \"epochs\": epochs, \n",
    "    \"batch_size\": batchsize\n",
    "}"
   ]
  },
  {
   "cell_type": "code",
   "execution_count": 18,
   "metadata": {},
   "outputs": [],
   "source": [
    "inputs = {'training': s3_train_data, 'validation': s3_validation_data}"
   ]
  },
  {
   "cell_type": "code",
   "execution_count": 19,
   "metadata": {},
   "outputs": [],
   "source": [
    "model_dir = '/opt/ml/model'"
   ]
  },
  {
   "cell_type": "code",
   "execution_count": 20,
   "metadata": {},
   "outputs": [],
   "source": [
    "my_estimator = TensorFlow(entry_point='train_nn.py',\n",
    "                               role=role,\n",
    "                               model_dir=model_dir,\n",
    "                               framework_version='1.13',                                  \n",
    "                               train_instance_count=1,\n",
    "                               train_instance_type=train_instance_type,\n",
    "                               #train_instance_type='local',\n",
    "                               py_version='py3',\n",
    "                               script_mode=True,\n",
    "                               base_job_name='Neural-Net-Fraud-Detection',\n",
    "                               hyperparameters=hyperparameters\n",
    "                            )"
   ]
  },
  {
   "cell_type": "code",
   "execution_count": 21,
   "metadata": {
    "scrolled": false
   },
   "outputs": [
    {
     "name": "stderr",
     "output_type": "stream",
     "text": [
      "'s3_input' class will be renamed to 'TrainingInput' in SageMaker Python SDK v2.\n",
      "'s3_input' class will be renamed to 'TrainingInput' in SageMaker Python SDK v2.\n",
      "'create_image_uri' will be deprecated in favor of 'ImageURIProvider' class in SageMaker Python SDK v2.\n"
     ]
    }
   ],
   "source": [
    "my_estimator.fit(inputs=inputs,logs=True, wait=False)"
   ]
  },
  {
   "cell_type": "code",
   "execution_count": 22,
   "metadata": {},
   "outputs": [
    {
     "data": {
      "text/plain": [
       "'Neural-Net-Fraud-Detection-2020-08-03-11-40-31-306'"
      ]
     },
     "execution_count": 22,
     "metadata": {},
     "output_type": "execute_result"
    }
   ],
   "source": [
    "job_name = my_estimator.latest_training_job.name\n",
    "job_name"
   ]
  },
  {
   "cell_type": "code",
   "execution_count": 23,
   "metadata": {},
   "outputs": [
    {
     "name": "stdout",
     "output_type": "stream",
     "text": [
      "job status:InProgress\n",
      "job status:InProgress\n",
      "job status:InProgress\n",
      "job status:InProgress\n",
      "job status:InProgress\n",
      "job status:InProgress\n",
      "job status:InProgress\n",
      "job status:InProgress\n",
      "job status:InProgress\n",
      "job status:InProgress\n",
      "job status:InProgress\n",
      "job status:InProgress\n",
      "job status:Completed\n",
      "all job completed\n"
     ]
    }
   ],
   "source": [
    "import time\n",
    "sm = boto3.client('sagemaker')\n",
    "\n",
    "result = 1\n",
    "while result is not 0:\n",
    "    result = 0    \n",
    "    respones = sm.describe_training_job(TrainingJobName=job_name)['TrainingJobStatus']\n",
    "    print(\"job status:{}\".format(respones))\n",
    "    status = 0 if respones == 'Completed' else 1\n",
    "    result = result + status\n",
    "    time.sleep(20)\n",
    "print('all job completed')"
   ]
  },
  {
   "cell_type": "markdown",
   "metadata": {},
   "source": [
    "## Deploy our Trained Model on SageMaker Instances"
   ]
  },
  {
   "cell_type": "markdown",
   "metadata": {},
   "source": [
    "Note: Deployment process may take from 5-10mins !"
   ]
  },
  {
   "cell_type": "code",
   "execution_count": 2,
   "metadata": {
    "scrolled": true
   },
   "outputs": [
    {
     "ename": "NameError",
     "evalue": "name 'my_estimator' is not defined",
     "output_type": "error",
     "traceback": [
      "\u001b[0;31m---------------------------------------------------------------------------\u001b[0m",
      "\u001b[0;31mNameError\u001b[0m                                 Traceback (most recent call last)",
      "\u001b[0;32m<ipython-input-2-468a0982be2c>\u001b[0m in \u001b[0;36m<module>\u001b[0;34m\u001b[0m\n\u001b[0;32m----> 1\u001b[0;31m \u001b[0mmy_estimator\u001b[0m\u001b[0;34m.\u001b[0m\u001b[0mname\u001b[0m \u001b[0;34m=\u001b[0m \u001b[0;34m'deployed-neural-net-prediction'\u001b[0m\u001b[0;34m\u001b[0m\u001b[0;34m\u001b[0m\u001b[0m\n\u001b[0m\u001b[1;32m      2\u001b[0m \u001b[0mmy_predictor\u001b[0m \u001b[0;34m=\u001b[0m \u001b[0mmy_estimator\u001b[0m\u001b[0;34m.\u001b[0m\u001b[0mdeploy\u001b[0m\u001b[0;34m(\u001b[0m\u001b[0minitial_instance_count\u001b[0m \u001b[0;34m=\u001b[0m \u001b[0;36m1\u001b[0m\u001b[0;34m,\u001b[0m \u001b[0minstance_type\u001b[0m \u001b[0;34m=\u001b[0m \u001b[0mdeploy_instance_type\u001b[0m\u001b[0;34m,\u001b[0m \u001b[0mwait\u001b[0m\u001b[0;34m=\u001b[0m\u001b[0;32mFalse\u001b[0m\u001b[0;34m)\u001b[0m\u001b[0;34m\u001b[0m\u001b[0;34m\u001b[0m\u001b[0m\n",
      "\u001b[0;31mNameError\u001b[0m: name 'my_estimator' is not defined"
     ]
    }
   ],
   "source": [
    "my_estimator.name = 'deployed-neural-net-prediction'\n",
    "my_predictor = my_estimator.deploy(initial_instance_count = 1, instance_type = deploy_instance_type, wait=False)"
   ]
  },
  {
   "cell_type": "code",
   "execution_count": 25,
   "metadata": {},
   "outputs": [
    {
     "data": {
      "text/plain": [
       "'Neural-Net-Fraud-Detection-2020-08-03-11-40-31-306'"
      ]
     },
     "execution_count": 25,
     "metadata": {},
     "output_type": "execute_result"
    }
   ],
   "source": [
    "endpoint_name = my_predictor.endpoint\n",
    "endpoint_name"
   ]
  },
  {
   "cell_type": "code",
   "execution_count": 26,
   "metadata": {},
   "outputs": [
    {
     "name": "stdout",
     "output_type": "stream",
     "text": [
      "job status:Creating\n",
      "job status:Creating\n",
      "job status:Creating\n",
      "job status:Creating\n",
      "job status:Creating\n",
      "job status:Creating\n",
      "job status:Creating\n",
      "job status:Creating\n",
      "job status:Creating\n",
      "job status:Creating\n",
      "job status:Creating\n",
      "job status:Creating\n",
      "job status:Creating\n",
      "job status:Creating\n",
      "job status:Creating\n",
      "job status:Creating\n",
      "job status:Creating\n",
      "job status:Creating\n",
      "job status:Creating\n",
      "job status:InService\n",
      "all endpoints in service\n"
     ]
    }
   ],
   "source": [
    "# check endpoint status\n",
    "\n",
    "result = 1\n",
    "while result is not 0:\n",
    "    result = 0\n",
    "    respones = sm.describe_endpoint(EndpointName=endpoint_name)['EndpointStatus']\n",
    "    print(\"job status:{}\".format(respones))\n",
    "    status = 0 if respones == 'InService' else 1\n",
    "    result = result + status\n",
    "    time.sleep(20)\n",
    "print('all endpoints in service')"
   ]
  },
  {
   "cell_type": "markdown",
   "metadata": {},
   "source": [
    "## Prediction on Test Dataset"
   ]
  },
  {
   "cell_type": "code",
   "execution_count": 1,
   "metadata": {},
   "outputs": [
    {
     "ename": "NameError",
     "evalue": "name 'my_predictor' is not defined",
     "output_type": "error",
     "traceback": [
      "\u001b[0;31m---------------------------------------------------------------------------\u001b[0m",
      "\u001b[0;31mNameError\u001b[0m                                 Traceback (most recent call last)",
      "\u001b[0;32m<ipython-input-1-409e36a04f5b>\u001b[0m in \u001b[0;36m<module>\u001b[0;34m\u001b[0m\n\u001b[1;32m      1\u001b[0m \u001b[0;32mfrom\u001b[0m \u001b[0msagemaker\u001b[0m\u001b[0;34m.\u001b[0m\u001b[0mpredictor\u001b[0m \u001b[0;32mimport\u001b[0m \u001b[0mcsv_serializer\u001b[0m\u001b[0;34m\u001b[0m\u001b[0;34m\u001b[0m\u001b[0m\n\u001b[1;32m      2\u001b[0m \u001b[0;34m\u001b[0m\u001b[0m\n\u001b[0;32m----> 3\u001b[0;31m \u001b[0mmy_predictor\u001b[0m\u001b[0;34m.\u001b[0m\u001b[0mcontent_type\u001b[0m \u001b[0;34m=\u001b[0m \u001b[0;34m'text/csv'\u001b[0m\u001b[0;34m\u001b[0m\u001b[0;34m\u001b[0m\u001b[0m\n\u001b[0m\u001b[1;32m      4\u001b[0m \u001b[0mmy_predictor\u001b[0m\u001b[0;34m.\u001b[0m\u001b[0mserializer\u001b[0m \u001b[0;34m=\u001b[0m \u001b[0mcsv_serializer\u001b[0m\u001b[0;34m\u001b[0m\u001b[0;34m\u001b[0m\u001b[0m\n\u001b[1;32m      5\u001b[0m \u001b[0mmy_predictor\u001b[0m\u001b[0;34m.\u001b[0m\u001b[0mdeserializer\u001b[0m \u001b[0;34m=\u001b[0m \u001b[0;32mNone\u001b[0m\u001b[0;34m\u001b[0m\u001b[0;34m\u001b[0m\u001b[0m\n",
      "\u001b[0;31mNameError\u001b[0m: name 'my_predictor' is not defined"
     ]
    }
   ],
   "source": [
    "from sagemaker.predictor import csv_serializer \n",
    "\n",
    "my_predictor.content_type = 'text/csv'\n",
    "my_predictor.serializer = csv_serializer\n",
    "my_predictor.deserializer = None"
   ]
  },
  {
   "cell_type": "code",
   "execution_count": 28,
   "metadata": {},
   "outputs": [],
   "source": [
    "import json"
   ]
  },
  {
   "cell_type": "code",
   "execution_count": 29,
   "metadata": {},
   "outputs": [
    {
     "name": "stdout",
     "output_type": "stream",
     "text": [
      "No of rows to predict = 28481\n"
     ]
    }
   ],
   "source": [
    "print('No of rows to predict =',len(test_data))"
   ]
  },
  {
   "cell_type": "code",
   "execution_count": 30,
   "metadata": {},
   "outputs": [],
   "source": [
    "y_true = test_data.iloc[:,28:29]"
   ]
  },
  {
   "cell_type": "code",
   "execution_count": 31,
   "metadata": {},
   "outputs": [
    {
     "data": {
      "text/html": [
       "<div>\n",
       "<style scoped>\n",
       "    .dataframe tbody tr th:only-of-type {\n",
       "        vertical-align: middle;\n",
       "    }\n",
       "\n",
       "    .dataframe tbody tr th {\n",
       "        vertical-align: top;\n",
       "    }\n",
       "\n",
       "    .dataframe thead th {\n",
       "        text-align: right;\n",
       "    }\n",
       "</style>\n",
       "<table border=\"1\" class=\"dataframe\">\n",
       "  <thead>\n",
       "    <tr style=\"text-align: right;\">\n",
       "      <th></th>\n",
       "      <th>Class</th>\n",
       "    </tr>\n",
       "  </thead>\n",
       "  <tbody>\n",
       "    <tr>\n",
       "      <th>265632</th>\n",
       "      <td>0</td>\n",
       "    </tr>\n",
       "    <tr>\n",
       "      <th>138198</th>\n",
       "      <td>0</td>\n",
       "    </tr>\n",
       "    <tr>\n",
       "      <th>85664</th>\n",
       "      <td>0</td>\n",
       "    </tr>\n",
       "    <tr>\n",
       "      <th>208800</th>\n",
       "      <td>0</td>\n",
       "    </tr>\n",
       "    <tr>\n",
       "      <th>196619</th>\n",
       "      <td>0</td>\n",
       "    </tr>\n",
       "  </tbody>\n",
       "</table>\n",
       "</div>"
      ],
      "text/plain": [
       "        Class\n",
       "265632      0\n",
       "138198      0\n",
       "85664       0\n",
       "208800      0\n",
       "196619      0"
      ]
     },
     "execution_count": 31,
     "metadata": {},
     "output_type": "execute_result"
    }
   ],
   "source": [
    "y_true.head()"
   ]
  },
  {
   "cell_type": "code",
   "execution_count": 34,
   "metadata": {},
   "outputs": [],
   "source": [
    "def predict(data, rows=500):\n",
    "    split_array = np.array_split(data, int(data.shape[0] / float(rows) + 1))\n",
    "    predictions = []\n",
    "    for array in split_array:\n",
    "        x = my_predictor.predict(array).decode('utf-8')\n",
    "        x = json.loads(x)\n",
    "        x = np.array(x[\"predictions\"])\n",
    "        y = len(x)\n",
    "        predictions = np.append(predictions,x)\n",
    "    return predictions\n",
    "\n",
    "result_out = predict(test_data.to_numpy()[:,0:28])"
   ]
  },
  {
   "cell_type": "code",
   "execution_count": 35,
   "metadata": {},
   "outputs": [],
   "source": [
    "y_pred = (result_out>0.5)"
   ]
  },
  {
   "cell_type": "code",
   "execution_count": 36,
   "metadata": {},
   "outputs": [
    {
     "data": {
      "text/plain": [
       "28481"
      ]
     },
     "execution_count": 36,
     "metadata": {},
     "output_type": "execute_result"
    }
   ],
   "source": [
    "y_pred.size"
   ]
  },
  {
   "cell_type": "code",
   "execution_count": 37,
   "metadata": {},
   "outputs": [],
   "source": [
    "y_true = test_data.iloc[:,28:29]"
   ]
  },
  {
   "cell_type": "code",
   "execution_count": 38,
   "metadata": {},
   "outputs": [
    {
     "name": "stdout",
     "output_type": "stream",
     "text": [
      "No. of rows predicted=28481 vs test=28481\n"
     ]
    }
   ],
   "source": [
    "print('No. of rows predicted={} vs test={}'.format(y_pred.size, y_true.size))"
   ]
  },
  {
   "cell_type": "markdown",
   "metadata": {},
   "source": [
    "## Analyzing our Results"
   ]
  },
  {
   "cell_type": "code",
   "execution_count": 39,
   "metadata": {},
   "outputs": [
    {
     "name": "stdout",
     "output_type": "stream",
     "text": [
      "Number of frauds:  46\n",
      "Number of non-frauds:  28435\n",
      "Percentage of fradulent data: 0.16151118289385907\n"
     ]
    }
   ],
   "source": [
    "test_nonfrauds, test_frauds = test_data.groupby('Class').size()\n",
    "print('Number of frauds: ', test_frauds)\n",
    "print('Number of non-frauds: ', test_nonfrauds)\n",
    "print('Percentage of fradulent data:', 100.*test_frauds/(test_frauds + test_nonfrauds))"
   ]
  },
  {
   "cell_type": "code",
   "execution_count": 40,
   "metadata": {},
   "outputs": [],
   "source": [
    "from sklearn.metrics import confusion_matrix, precision_recall_curve\n",
    "import seaborn as sns\n",
    "import matplotlib.pyplot as plt"
   ]
  },
  {
   "cell_type": "code",
   "execution_count": 41,
   "metadata": {},
   "outputs": [
    {
     "data": {
      "image/png": "[encoded data removed]",
      "text/plain": [
       "<Figure size 864x864 with 2 Axes>"
      ]
     },
     "metadata": {
      "needs_background": "light"
     },
     "output_type": "display_data"
    }
   ],
   "source": [
    "LABELS = [\"Normal\",\"Fraud\"]\n",
    "conf_matrix = confusion_matrix(y_true=y_true, y_pred=y_pred)\n",
    "tn, fp, fn, tp = conf_matrix.ravel() \n",
    "plt.figure(figsize=(12, 12))\n",
    "sns.heatmap(conf_matrix, xticklabels=LABELS, yticklabels=LABELS, annot=True, fmt=\"d\");\n",
    "plt.title(\"Confusion matrix\")\n",
    "plt.ylabel('True class')\n",
    "plt.xlabel('Predicted class')\n",
    "plt.show()"
   ]
  },
  {
   "cell_type": "code",
   "execution_count": 42,
   "metadata": {},
   "outputs": [
    {
     "name": "stdout",
     "output_type": "stream",
     "text": [
      "              precision    recall  f1-score   support\n",
      "\n",
      "           0       1.00      1.00      1.00     28435\n",
      "           1       0.59      0.76      0.67        46\n",
      "\n",
      "    accuracy                           1.00     28481\n",
      "   macro avg       0.80      0.88      0.83     28481\n",
      "weighted avg       1.00      1.00      1.00     28481\n",
      "\n"
     ]
    }
   ],
   "source": [
    "from sklearn.metrics import classification_report\n",
    "print(classification_report(y_true, y_pred))"
   ]
  },
  {
   "cell_type": "code",
   "execution_count": 43,
   "metadata": {},
   "outputs": [],
   "source": [
    "from sklearn.metrics import precision_score,accuracy_score, recall_score\n",
    "accuracy = accuracy_score(y_true=y_true, y_pred=y_pred)\n",
    "precision = precision_score(y_true=y_true, y_pred=y_pred)\n",
    "recall = recall_score(y_true=y_true, y_pred=y_pred)"
   ]
  },
  {
   "cell_type": "code",
   "execution_count": 44,
   "metadata": {},
   "outputs": [
    {
     "name": "stdout",
     "output_type": "stream",
     "text": [
      "\n",
      "Accuracy Score:  1.0\n",
      "\n",
      "Precision Score:  0.59\n",
      "\n",
      "Recall Score:  0.76\n"
     ]
    }
   ],
   "source": [
    "print (\"\")\n",
    "print (\"Accuracy Score: \", round(accuracy, 2))\n",
    "print (\"\")\n",
    "print (\"Precision Score: \", round(precision, 2))\n",
    "print (\"\")\n",
    "print (\"Recall Score: \", round(recall, 2))"
   ]
  },
  {
   "cell_type": "markdown",
   "metadata": {},
   "source": [
    "# Delete endpoints"
   ]
  },
  {
   "cell_type": "code",
   "execution_count": 45,
   "metadata": {},
   "outputs": [
    {
     "data": {
      "text/plain": [
       "{'ResponseMetadata': {'RequestId': '378ff0dd-13dc-4184-a03e-3af0e0b957f4',\n",
       "  'HTTPStatusCode': 200,\n",
       "  'HTTPHeaders': {'x-amzn-requestid': '378ff0dd-13dc-4184-a03e-3af0e0b957f4',\n",
       "   'content-type': 'application/x-amz-json-1.1',\n",
       "   'content-length': '0',\n",
       "   'date': 'Mon, 03 Aug 2020 12:01:32 GMT'},\n",
       "  'RetryAttempts': 0}}"
      ]
     },
     "execution_count": 45,
     "metadata": {},
     "output_type": "execute_result"
    }
   ],
   "source": [
    "sm.delete_endpoint(EndpointName=endpoint_name)"
   ]
  },
  {
   "cell_type": "markdown",
   "metadata": {},
   "source": [
    "## Data Acknowledgements\n",
    "The dataset used to demonstrated the fraud detection solution has been collected and analysed during a research collaboration of Worldline and the Machine Learning Group (http://mlg.ulb.ac.be) of ULB (Université Libre de Bruxelles) on big data mining and fraud detection. More details on current and past projects on related topics are available on https://www.researchgate.net/project/Fraud-detection-5 and the page of the DefeatFraud project We cite the following works:\n",
    "\n",
    "- Andrea Dal Pozzolo, Olivier Caelen, Reid A. Johnson and Gianluca Bontempi. Calibrating Probability with Undersampling for Unbalanced Classification. In Symposium on Computational Intelligence and Data Mining (CIDM), IEEE, 2015\n",
    "- Dal Pozzolo, Andrea; Caelen, Olivier; Le Borgne, Yann-Ael; Waterschoot, Serge; Bontempi, Gianluca. Learned lessons in credit card fraud detection from a practitioner perspective, Expert systems with applications,41,10,4915-4928,2014, Pergamon\n",
    "- Dal Pozzolo, Andrea; Boracchi, Giacomo; Caelen, Olivier; Alippi, Cesare; Bontempi, Gianluca. Credit card fraud detection: a realistic modeling and a novel learning strategy, IEEE transactions on neural networks and learning systems,29,8,3784-3797,2018,IEEE\n",
    "- Dal Pozzolo, Andrea Adaptive Machine learning for credit card fraud detection ULB MLG PhD thesis (supervised by G. Bontempi)\n",
    "- Carcillo, Fabrizio; Dal Pozzolo, Andrea; Le Borgne, Yann-Aël; Caelen, Olivier; Mazzer, Yannis; Bontempi, Gianluca. Scarff: a scalable framework for streaming credit card fraud detection with Spark, Information fusion,41, 182-194,2018,Elsevier\n",
    "- Carcillo, Fabrizio; Le Borgne, Yann-Aël; Caelen, Olivier; Bontempi, Gianluca. Streaming active learning strategies for real-life credit card fraud detection: assessment and visualization, International Journal of Data Science and Analytics, 5,4,285-300,2018,Springer International Publishing"
   ]
  }
 ],
 "metadata": {
  "kernelspec": {
   "display_name": "conda_tensorflow_p36",
   "language": "python",
   "name": "conda_tensorflow_p36"
  },
  "language_info": {
   "codemirror_mode": {
    "name": "ipython",
    "version": 3
   },
   "file_extension": ".py",
   "mimetype": "text/x-python",
   "name": "python",
   "nbconvert_exporter": "python",
   "pygments_lexer": "ipython3",
   "version": "3.6.10"
  }
 },
 "nbformat": 4,
 "nbformat_minor": 2
}
